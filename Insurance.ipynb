{
 "cells": [
  {
   "cell_type": "code",
   "execution_count": 1,
   "id": "ba108025",
   "metadata": {},
   "outputs": [],
   "source": [
    "# Import the base Libraries\n",
    "import numpy as np\n",
    "import pandas as pd\n",
    "import seaborn as sns\n",
    "import matplotlib.pyplot as plt"
   ]
  },
  {
   "cell_type": "code",
   "execution_count": 2,
   "id": "27fa2434",
   "metadata": {},
   "outputs": [
    {
     "data": {
      "text/html": [
       "<div>\n",
       "<style scoped>\n",
       "    .dataframe tbody tr th:only-of-type {\n",
       "        vertical-align: middle;\n",
       "    }\n",
       "\n",
       "    .dataframe tbody tr th {\n",
       "        vertical-align: top;\n",
       "    }\n",
       "\n",
       "    .dataframe thead th {\n",
       "        text-align: right;\n",
       "    }\n",
       "</style>\n",
       "<table border=\"1\" class=\"dataframe\">\n",
       "  <thead>\n",
       "    <tr style=\"text-align: right;\">\n",
       "      <th></th>\n",
       "      <th>age</th>\n",
       "      <th>sex</th>\n",
       "      <th>bmi</th>\n",
       "      <th>children</th>\n",
       "      <th>smoker</th>\n",
       "      <th>region</th>\n",
       "      <th>charges</th>\n",
       "    </tr>\n",
       "  </thead>\n",
       "  <tbody>\n",
       "    <tr>\n",
       "      <th>0</th>\n",
       "      <td>19</td>\n",
       "      <td>female</td>\n",
       "      <td>27.900</td>\n",
       "      <td>0</td>\n",
       "      <td>yes</td>\n",
       "      <td>southwest</td>\n",
       "      <td>16884.92400</td>\n",
       "    </tr>\n",
       "    <tr>\n",
       "      <th>1</th>\n",
       "      <td>18</td>\n",
       "      <td>male</td>\n",
       "      <td>33.770</td>\n",
       "      <td>1</td>\n",
       "      <td>no</td>\n",
       "      <td>southeast</td>\n",
       "      <td>1725.55230</td>\n",
       "    </tr>\n",
       "    <tr>\n",
       "      <th>2</th>\n",
       "      <td>28</td>\n",
       "      <td>male</td>\n",
       "      <td>33.000</td>\n",
       "      <td>3</td>\n",
       "      <td>no</td>\n",
       "      <td>southeast</td>\n",
       "      <td>4449.46200</td>\n",
       "    </tr>\n",
       "    <tr>\n",
       "      <th>3</th>\n",
       "      <td>33</td>\n",
       "      <td>male</td>\n",
       "      <td>22.705</td>\n",
       "      <td>0</td>\n",
       "      <td>no</td>\n",
       "      <td>northwest</td>\n",
       "      <td>21984.47061</td>\n",
       "    </tr>\n",
       "    <tr>\n",
       "      <th>4</th>\n",
       "      <td>32</td>\n",
       "      <td>male</td>\n",
       "      <td>28.880</td>\n",
       "      <td>0</td>\n",
       "      <td>no</td>\n",
       "      <td>northwest</td>\n",
       "      <td>3866.85520</td>\n",
       "    </tr>\n",
       "  </tbody>\n",
       "</table>\n",
       "</div>"
      ],
      "text/plain": [
       "   age     sex     bmi  children smoker     region      charges\n",
       "0   19  female  27.900         0    yes  southwest  16884.92400\n",
       "1   18    male  33.770         1     no  southeast   1725.55230\n",
       "2   28    male  33.000         3     no  southeast   4449.46200\n",
       "3   33    male  22.705         0     no  northwest  21984.47061\n",
       "4   32    male  28.880         0     no  northwest   3866.85520"
      ]
     },
     "execution_count": 2,
     "metadata": {},
     "output_type": "execute_result"
    }
   ],
   "source": [
    "# Load the data\n",
    "df_insurance_main = pd.read_csv(\"insurance.csv\")\n",
    "df_insurance_main.head()"
   ]
  },
  {
   "cell_type": "markdown",
   "id": "472069d0",
   "metadata": {},
   "source": [
    "\n",
    "# Overview of the data"
   ]
  },
  {
   "cell_type": "code",
   "execution_count": 3,
   "id": "edd8e40a",
   "metadata": {},
   "outputs": [
    {
     "data": {
      "text/plain": [
       "(1338, 7)"
      ]
     },
     "execution_count": 3,
     "metadata": {},
     "output_type": "execute_result"
    }
   ],
   "source": [
    "df_insurance_main.shape"
   ]
  },
  {
   "cell_type": "code",
   "execution_count": 4,
   "id": "edef7347",
   "metadata": {},
   "outputs": [],
   "source": [
    "# 1338 observations\n",
    "# 7 Features"
   ]
  },
  {
   "cell_type": "code",
   "execution_count": 5,
   "id": "fee6b9bc",
   "metadata": {},
   "outputs": [
    {
     "data": {
      "text/plain": [
       "Index(['age', 'sex', 'bmi', 'children', 'smoker', 'region', 'charges'], dtype='object')"
      ]
     },
     "execution_count": 5,
     "metadata": {},
     "output_type": "execute_result"
    }
   ],
   "source": [
    "df_insurance_main.columns"
   ]
  },
  {
   "cell_type": "code",
   "execution_count": 6,
   "id": "9d0b75db",
   "metadata": {},
   "outputs": [
    {
     "name": "stdout",
     "output_type": "stream",
     "text": [
      "<class 'pandas.core.frame.DataFrame'>\n",
      "RangeIndex: 1338 entries, 0 to 1337\n",
      "Data columns (total 7 columns):\n",
      " #   Column    Non-Null Count  Dtype  \n",
      "---  ------    --------------  -----  \n",
      " 0   age       1338 non-null   int64  \n",
      " 1   sex       1338 non-null   object \n",
      " 2   bmi       1338 non-null   float64\n",
      " 3   children  1338 non-null   int64  \n",
      " 4   smoker    1338 non-null   object \n",
      " 5   region    1338 non-null   object \n",
      " 6   charges   1338 non-null   float64\n",
      "dtypes: float64(2), int64(2), object(3)\n",
      "memory usage: 73.3+ KB\n"
     ]
    }
   ],
   "source": [
    "df_insurance_main.info()"
   ]
  },
  {
   "cell_type": "code",
   "execution_count": 7,
   "id": "9cf2d05b",
   "metadata": {},
   "outputs": [
    {
     "data": {
      "text/plain": [
       "age         0.0\n",
       "sex         0.0\n",
       "bmi         0.0\n",
       "children    0.0\n",
       "smoker      0.0\n",
       "region      0.0\n",
       "charges     0.0\n",
       "dtype: float64"
      ]
     },
     "execution_count": 7,
     "metadata": {},
     "output_type": "execute_result"
    }
   ],
   "source": [
    "df_insurance_main.isnull().sum()*100/len(df_insurance_main)"
   ]
  },
  {
   "cell_type": "code",
   "execution_count": 8,
   "id": "049bd0df",
   "metadata": {},
   "outputs": [
    {
     "data": {
      "text/plain": [
       "age         0\n",
       "sex         0\n",
       "bmi         0\n",
       "children    0\n",
       "smoker      0\n",
       "region      0\n",
       "charges     0\n",
       "dtype: int64"
      ]
     },
     "execution_count": 8,
     "metadata": {},
     "output_type": "execute_result"
    }
   ],
   "source": [
    "df_insurance_main.isnull().sum()"
   ]
  },
  {
   "cell_type": "code",
   "execution_count": 9,
   "id": "0c7080bf",
   "metadata": {},
   "outputs": [],
   "source": [
    "## Saperate the Target Veribale\n",
    "df_target = df_insurance_main[\"charges\"]\n",
    "df_insurance_main.drop(\"charges\",axis=1,inplace=True)"
   ]
  },
  {
   "cell_type": "markdown",
   "id": "0153e8c8",
   "metadata": {},
   "source": [
    "# Encoding & Scalling"
   ]
  },
  {
   "cell_type": "markdown",
   "id": "9c551ab0",
   "metadata": {},
   "source": [
    "## Scalling"
   ]
  },
  {
   "cell_type": "code",
   "execution_count": 10,
   "id": "49a19980",
   "metadata": {
    "scrolled": true
   },
   "outputs": [
    {
     "data": {
      "text/html": [
       "<div>\n",
       "<style scoped>\n",
       "    .dataframe tbody tr th:only-of-type {\n",
       "        vertical-align: middle;\n",
       "    }\n",
       "\n",
       "    .dataframe tbody tr th {\n",
       "        vertical-align: top;\n",
       "    }\n",
       "\n",
       "    .dataframe thead th {\n",
       "        text-align: right;\n",
       "    }\n",
       "</style>\n",
       "<table border=\"1\" class=\"dataframe\">\n",
       "  <thead>\n",
       "    <tr style=\"text-align: right;\">\n",
       "      <th></th>\n",
       "      <th>age</th>\n",
       "      <th>bmi</th>\n",
       "      <th>children</th>\n",
       "    </tr>\n",
       "  </thead>\n",
       "  <tbody>\n",
       "    <tr>\n",
       "      <th>0</th>\n",
       "      <td>19</td>\n",
       "      <td>27.900</td>\n",
       "      <td>0</td>\n",
       "    </tr>\n",
       "    <tr>\n",
       "      <th>1</th>\n",
       "      <td>18</td>\n",
       "      <td>33.770</td>\n",
       "      <td>1</td>\n",
       "    </tr>\n",
       "    <tr>\n",
       "      <th>2</th>\n",
       "      <td>28</td>\n",
       "      <td>33.000</td>\n",
       "      <td>3</td>\n",
       "    </tr>\n",
       "    <tr>\n",
       "      <th>3</th>\n",
       "      <td>33</td>\n",
       "      <td>22.705</td>\n",
       "      <td>0</td>\n",
       "    </tr>\n",
       "    <tr>\n",
       "      <th>4</th>\n",
       "      <td>32</td>\n",
       "      <td>28.880</td>\n",
       "      <td>0</td>\n",
       "    </tr>\n",
       "  </tbody>\n",
       "</table>\n",
       "</div>"
      ],
      "text/plain": [
       "   age     bmi  children\n",
       "0   19  27.900         0\n",
       "1   18  33.770         1\n",
       "2   28  33.000         3\n",
       "3   33  22.705         0\n",
       "4   32  28.880         0"
      ]
     },
     "execution_count": 10,
     "metadata": {},
     "output_type": "execute_result"
    }
   ],
   "source": [
    "# numerical df\n",
    "df_insurance_main_num = df_insurance_main.select_dtypes(include=\"number\")\n",
    "df_insurance_main_num.head()"
   ]
  },
  {
   "cell_type": "code",
   "execution_count": 11,
   "id": "742a648c",
   "metadata": {},
   "outputs": [],
   "source": [
    "# Scale the numerical data using Standard SWcaller\n",
    "from sklearn.preprocessing import StandardScaler\n",
    "ss = StandardScaler()\n",
    "scalled = ss.fit_transform(df_insurance_main_num)"
   ]
  },
  {
   "cell_type": "code",
   "execution_count": 12,
   "id": "4f303bed",
   "metadata": {},
   "outputs": [
    {
     "data": {
      "text/html": [
       "<div>\n",
       "<style scoped>\n",
       "    .dataframe tbody tr th:only-of-type {\n",
       "        vertical-align: middle;\n",
       "    }\n",
       "\n",
       "    .dataframe tbody tr th {\n",
       "        vertical-align: top;\n",
       "    }\n",
       "\n",
       "    .dataframe thead th {\n",
       "        text-align: right;\n",
       "    }\n",
       "</style>\n",
       "<table border=\"1\" class=\"dataframe\">\n",
       "  <thead>\n",
       "    <tr style=\"text-align: right;\">\n",
       "      <th></th>\n",
       "      <th>age</th>\n",
       "      <th>bmi</th>\n",
       "      <th>children</th>\n",
       "    </tr>\n",
       "  </thead>\n",
       "  <tbody>\n",
       "    <tr>\n",
       "      <th>0</th>\n",
       "      <td>-1.438764</td>\n",
       "      <td>-0.453320</td>\n",
       "      <td>-0.908614</td>\n",
       "    </tr>\n",
       "    <tr>\n",
       "      <th>1</th>\n",
       "      <td>-1.509965</td>\n",
       "      <td>0.509621</td>\n",
       "      <td>-0.078767</td>\n",
       "    </tr>\n",
       "    <tr>\n",
       "      <th>2</th>\n",
       "      <td>-0.797954</td>\n",
       "      <td>0.383307</td>\n",
       "      <td>1.580926</td>\n",
       "    </tr>\n",
       "    <tr>\n",
       "      <th>3</th>\n",
       "      <td>-0.441948</td>\n",
       "      <td>-1.305531</td>\n",
       "      <td>-0.908614</td>\n",
       "    </tr>\n",
       "    <tr>\n",
       "      <th>4</th>\n",
       "      <td>-0.513149</td>\n",
       "      <td>-0.292556</td>\n",
       "      <td>-0.908614</td>\n",
       "    </tr>\n",
       "  </tbody>\n",
       "</table>\n",
       "</div>"
      ],
      "text/plain": [
       "        age       bmi  children\n",
       "0 -1.438764 -0.453320 -0.908614\n",
       "1 -1.509965  0.509621 -0.078767\n",
       "2 -0.797954  0.383307  1.580926\n",
       "3 -0.441948 -1.305531 -0.908614\n",
       "4 -0.513149 -0.292556 -0.908614"
      ]
     },
     "execution_count": 12,
     "metadata": {},
     "output_type": "execute_result"
    }
   ],
   "source": [
    "scalled_df = pd.DataFrame(scalled,columns=df_insurance_main_num.columns)\n",
    "scalled_df.head()"
   ]
  },
  {
   "cell_type": "markdown",
   "id": "c7f58ed6",
   "metadata": {},
   "source": [
    "## Encoding"
   ]
  },
  {
   "cell_type": "code",
   "execution_count": 13,
   "id": "14cd9d47",
   "metadata": {},
   "outputs": [
    {
     "data": {
      "text/html": [
       "<div>\n",
       "<style scoped>\n",
       "    .dataframe tbody tr th:only-of-type {\n",
       "        vertical-align: middle;\n",
       "    }\n",
       "\n",
       "    .dataframe tbody tr th {\n",
       "        vertical-align: top;\n",
       "    }\n",
       "\n",
       "    .dataframe thead th {\n",
       "        text-align: right;\n",
       "    }\n",
       "</style>\n",
       "<table border=\"1\" class=\"dataframe\">\n",
       "  <thead>\n",
       "    <tr style=\"text-align: right;\">\n",
       "      <th></th>\n",
       "      <th>sex</th>\n",
       "      <th>smoker</th>\n",
       "      <th>region</th>\n",
       "    </tr>\n",
       "  </thead>\n",
       "  <tbody>\n",
       "    <tr>\n",
       "      <th>0</th>\n",
       "      <td>female</td>\n",
       "      <td>yes</td>\n",
       "      <td>southwest</td>\n",
       "    </tr>\n",
       "    <tr>\n",
       "      <th>1</th>\n",
       "      <td>male</td>\n",
       "      <td>no</td>\n",
       "      <td>southeast</td>\n",
       "    </tr>\n",
       "    <tr>\n",
       "      <th>2</th>\n",
       "      <td>male</td>\n",
       "      <td>no</td>\n",
       "      <td>southeast</td>\n",
       "    </tr>\n",
       "    <tr>\n",
       "      <th>3</th>\n",
       "      <td>male</td>\n",
       "      <td>no</td>\n",
       "      <td>northwest</td>\n",
       "    </tr>\n",
       "    <tr>\n",
       "      <th>4</th>\n",
       "      <td>male</td>\n",
       "      <td>no</td>\n",
       "      <td>northwest</td>\n",
       "    </tr>\n",
       "  </tbody>\n",
       "</table>\n",
       "</div>"
      ],
      "text/plain": [
       "      sex smoker     region\n",
       "0  female    yes  southwest\n",
       "1    male     no  southeast\n",
       "2    male     no  southeast\n",
       "3    male     no  northwest\n",
       "4    male     no  northwest"
      ]
     },
     "execution_count": 13,
     "metadata": {},
     "output_type": "execute_result"
    }
   ],
   "source": [
    "# Saperate the Cat. Veriabls\n",
    "df_insurance_main_cat = df_insurance_main.select_dtypes(include=\"object\")\n",
    "df_insurance_main_cat.head()"
   ]
  },
  {
   "cell_type": "code",
   "execution_count": 14,
   "id": "ded193fd",
   "metadata": {},
   "outputs": [
    {
     "data": {
      "text/html": [
       "<div>\n",
       "<style scoped>\n",
       "    .dataframe tbody tr th:only-of-type {\n",
       "        vertical-align: middle;\n",
       "    }\n",
       "\n",
       "    .dataframe tbody tr th {\n",
       "        vertical-align: top;\n",
       "    }\n",
       "\n",
       "    .dataframe thead th {\n",
       "        text-align: right;\n",
       "    }\n",
       "</style>\n",
       "<table border=\"1\" class=\"dataframe\">\n",
       "  <thead>\n",
       "    <tr style=\"text-align: right;\">\n",
       "      <th></th>\n",
       "      <th>sex_female</th>\n",
       "      <th>sex_male</th>\n",
       "      <th>smoker_no</th>\n",
       "      <th>smoker_yes</th>\n",
       "      <th>region_northeast</th>\n",
       "      <th>region_northwest</th>\n",
       "      <th>region_southeast</th>\n",
       "      <th>region_southwest</th>\n",
       "    </tr>\n",
       "  </thead>\n",
       "  <tbody>\n",
       "    <tr>\n",
       "      <th>0</th>\n",
       "      <td>1</td>\n",
       "      <td>0</td>\n",
       "      <td>0</td>\n",
       "      <td>1</td>\n",
       "      <td>0</td>\n",
       "      <td>0</td>\n",
       "      <td>0</td>\n",
       "      <td>1</td>\n",
       "    </tr>\n",
       "    <tr>\n",
       "      <th>1</th>\n",
       "      <td>0</td>\n",
       "      <td>1</td>\n",
       "      <td>1</td>\n",
       "      <td>0</td>\n",
       "      <td>0</td>\n",
       "      <td>0</td>\n",
       "      <td>1</td>\n",
       "      <td>0</td>\n",
       "    </tr>\n",
       "    <tr>\n",
       "      <th>2</th>\n",
       "      <td>0</td>\n",
       "      <td>1</td>\n",
       "      <td>1</td>\n",
       "      <td>0</td>\n",
       "      <td>0</td>\n",
       "      <td>0</td>\n",
       "      <td>1</td>\n",
       "      <td>0</td>\n",
       "    </tr>\n",
       "    <tr>\n",
       "      <th>3</th>\n",
       "      <td>0</td>\n",
       "      <td>1</td>\n",
       "      <td>1</td>\n",
       "      <td>0</td>\n",
       "      <td>0</td>\n",
       "      <td>1</td>\n",
       "      <td>0</td>\n",
       "      <td>0</td>\n",
       "    </tr>\n",
       "    <tr>\n",
       "      <th>4</th>\n",
       "      <td>0</td>\n",
       "      <td>1</td>\n",
       "      <td>1</td>\n",
       "      <td>0</td>\n",
       "      <td>0</td>\n",
       "      <td>1</td>\n",
       "      <td>0</td>\n",
       "      <td>0</td>\n",
       "    </tr>\n",
       "  </tbody>\n",
       "</table>\n",
       "</div>"
      ],
      "text/plain": [
       "   sex_female  sex_male  smoker_no  smoker_yes  region_northeast  \\\n",
       "0           1         0          0           1                 0   \n",
       "1           0         1          1           0                 0   \n",
       "2           0         1          1           0                 0   \n",
       "3           0         1          1           0                 0   \n",
       "4           0         1          1           0                 0   \n",
       "\n",
       "   region_northwest  region_southeast  region_southwest  \n",
       "0                 0                 0                 1  \n",
       "1                 0                 1                 0  \n",
       "2                 0                 1                 0  \n",
       "3                 1                 0                 0  \n",
       "4                 1                 0                 0  "
      ]
     },
     "execution_count": 14,
     "metadata": {},
     "output_type": "execute_result"
    }
   ],
   "source": [
    "# Encode using Dummy Encoding\n",
    "encoded = pd.get_dummies(df_insurance_main_cat)\n",
    "encoded.head()"
   ]
  },
  {
   "cell_type": "code",
   "execution_count": 15,
   "id": "5b0edaeb",
   "metadata": {},
   "outputs": [
    {
     "data": {
      "text/html": [
       "<div>\n",
       "<style scoped>\n",
       "    .dataframe tbody tr th:only-of-type {\n",
       "        vertical-align: middle;\n",
       "    }\n",
       "\n",
       "    .dataframe tbody tr th {\n",
       "        vertical-align: top;\n",
       "    }\n",
       "\n",
       "    .dataframe thead th {\n",
       "        text-align: right;\n",
       "    }\n",
       "</style>\n",
       "<table border=\"1\" class=\"dataframe\">\n",
       "  <thead>\n",
       "    <tr style=\"text-align: right;\">\n",
       "      <th></th>\n",
       "      <th>age</th>\n",
       "      <th>bmi</th>\n",
       "      <th>children</th>\n",
       "      <th>sex_female</th>\n",
       "      <th>sex_male</th>\n",
       "      <th>smoker_no</th>\n",
       "      <th>smoker_yes</th>\n",
       "      <th>region_northeast</th>\n",
       "      <th>region_northwest</th>\n",
       "      <th>region_southeast</th>\n",
       "      <th>region_southwest</th>\n",
       "    </tr>\n",
       "  </thead>\n",
       "  <tbody>\n",
       "    <tr>\n",
       "      <th>0</th>\n",
       "      <td>-1.438764</td>\n",
       "      <td>-0.453320</td>\n",
       "      <td>-0.908614</td>\n",
       "      <td>1</td>\n",
       "      <td>0</td>\n",
       "      <td>0</td>\n",
       "      <td>1</td>\n",
       "      <td>0</td>\n",
       "      <td>0</td>\n",
       "      <td>0</td>\n",
       "      <td>1</td>\n",
       "    </tr>\n",
       "    <tr>\n",
       "      <th>1</th>\n",
       "      <td>-1.509965</td>\n",
       "      <td>0.509621</td>\n",
       "      <td>-0.078767</td>\n",
       "      <td>0</td>\n",
       "      <td>1</td>\n",
       "      <td>1</td>\n",
       "      <td>0</td>\n",
       "      <td>0</td>\n",
       "      <td>0</td>\n",
       "      <td>1</td>\n",
       "      <td>0</td>\n",
       "    </tr>\n",
       "    <tr>\n",
       "      <th>2</th>\n",
       "      <td>-0.797954</td>\n",
       "      <td>0.383307</td>\n",
       "      <td>1.580926</td>\n",
       "      <td>0</td>\n",
       "      <td>1</td>\n",
       "      <td>1</td>\n",
       "      <td>0</td>\n",
       "      <td>0</td>\n",
       "      <td>0</td>\n",
       "      <td>1</td>\n",
       "      <td>0</td>\n",
       "    </tr>\n",
       "    <tr>\n",
       "      <th>3</th>\n",
       "      <td>-0.441948</td>\n",
       "      <td>-1.305531</td>\n",
       "      <td>-0.908614</td>\n",
       "      <td>0</td>\n",
       "      <td>1</td>\n",
       "      <td>1</td>\n",
       "      <td>0</td>\n",
       "      <td>0</td>\n",
       "      <td>1</td>\n",
       "      <td>0</td>\n",
       "      <td>0</td>\n",
       "    </tr>\n",
       "    <tr>\n",
       "      <th>4</th>\n",
       "      <td>-0.513149</td>\n",
       "      <td>-0.292556</td>\n",
       "      <td>-0.908614</td>\n",
       "      <td>0</td>\n",
       "      <td>1</td>\n",
       "      <td>1</td>\n",
       "      <td>0</td>\n",
       "      <td>0</td>\n",
       "      <td>1</td>\n",
       "      <td>0</td>\n",
       "      <td>0</td>\n",
       "    </tr>\n",
       "  </tbody>\n",
       "</table>\n",
       "</div>"
      ],
      "text/plain": [
       "        age       bmi  children  sex_female  sex_male  smoker_no  smoker_yes  \\\n",
       "0 -1.438764 -0.453320 -0.908614           1         0          0           1   \n",
       "1 -1.509965  0.509621 -0.078767           0         1          1           0   \n",
       "2 -0.797954  0.383307  1.580926           0         1          1           0   \n",
       "3 -0.441948 -1.305531 -0.908614           0         1          1           0   \n",
       "4 -0.513149 -0.292556 -0.908614           0         1          1           0   \n",
       "\n",
       "   region_northeast  region_northwest  region_southeast  region_southwest  \n",
       "0                 0                 0                 0                 1  \n",
       "1                 0                 0                 1                 0  \n",
       "2                 0                 0                 1                 0  \n",
       "3                 0                 1                 0                 0  \n",
       "4                 0                 1                 0                 0  "
      ]
     },
     "execution_count": 15,
     "metadata": {},
     "output_type": "execute_result"
    }
   ],
   "source": [
    "#### Concate the Scalled and encoded Dataframe\n",
    "X = pd.concat([scalled_df,encoded],axis=1)\n",
    "X.head()"
   ]
  },
  {
   "cell_type": "code",
   "execution_count": 16,
   "id": "80e078d6",
   "metadata": {},
   "outputs": [
    {
     "name": "stdout",
     "output_type": "stream",
     "text": [
      "X_train---indepandant veriabls for traing  (1070, 11)\n",
      "y_train---dependant veriabls for traing  (1070,)\n",
      "__________________________________________\n",
      "X_test---indepandant veriabls for testing  (268, 11)\n",
      "y_test---dependant veriabls for testing  (268,)\n"
     ]
    }
   ],
   "source": [
    "## Splitting the data for Training and Testing\n",
    "from sklearn.model_selection import train_test_split\n",
    "X_train,X_test,Y_train,Y_test = train_test_split(X,df_target,random_state= 1, test_size = 0.2)\n",
    "\n",
    "\n",
    "# Traing Data\n",
    "\n",
    "\n",
    "\n",
    "print(\"X_train---indepandant veriabls for traing \",X_train.shape)\n",
    "print(\"y_train---dependant veriabls for traing \",Y_train.shape)\n",
    "\n",
    "print(\"__________________________________________\")\n",
    "\n",
    "# Testing Data\n",
    "print(\"X_test---indepandant veriabls for testing \",X_test.shape)\n",
    "print(\"y_test---dependant veriabls for testing \",Y_test.shape)\n"
   ]
  },
  {
   "cell_type": "markdown",
   "id": "d3a9fe6c",
   "metadata": {},
   "source": [
    "# Base model"
   ]
  },
  {
   "cell_type": "code",
   "execution_count": 17,
   "id": "6a2a95ae",
   "metadata": {
    "scrolled": false
   },
   "outputs": [
    {
     "data": {
      "text/html": [
       "<table class=\"simpletable\">\n",
       "<caption>OLS Regression Results</caption>\n",
       "<tr>\n",
       "  <th>Dep. Variable:</th>         <td>charges</td>     <th>  R-squared:         </th> <td>   0.748</td> \n",
       "</tr>\n",
       "<tr>\n",
       "  <th>Model:</th>                   <td>OLS</td>       <th>  Adj. R-squared:    </th> <td>   0.746</td> \n",
       "</tr>\n",
       "<tr>\n",
       "  <th>Method:</th>             <td>Least Squares</td>  <th>  F-statistic:       </th> <td>   393.2</td> \n",
       "</tr>\n",
       "<tr>\n",
       "  <th>Date:</th>             <td>Wed, 07 Sep 2022</td> <th>  Prob (F-statistic):</th> <td>4.76e-311</td>\n",
       "</tr>\n",
       "<tr>\n",
       "  <th>Time:</th>                 <td>09:29:39</td>     <th>  Log-Likelihood:    </th> <td> -10838.</td> \n",
       "</tr>\n",
       "<tr>\n",
       "  <th>No. Observations:</th>      <td>  1070</td>      <th>  AIC:               </th> <td>2.169e+04</td>\n",
       "</tr>\n",
       "<tr>\n",
       "  <th>Df Residuals:</th>          <td>  1061</td>      <th>  BIC:               </th> <td>2.174e+04</td>\n",
       "</tr>\n",
       "<tr>\n",
       "  <th>Df Model:</th>              <td>     8</td>      <th>                     </th>     <td> </td>    \n",
       "</tr>\n",
       "<tr>\n",
       "  <th>Covariance Type:</th>      <td>nonrobust</td>    <th>                     </th>     <td> </td>    \n",
       "</tr>\n",
       "</table>\n",
       "<table class=\"simpletable\">\n",
       "<tr>\n",
       "          <td></td>            <th>coef</th>     <th>std err</th>      <th>t</th>      <th>P>|t|</th>  <th>[0.025</th>    <th>0.975]</th>  \n",
       "</tr>\n",
       "<tr>\n",
       "  <th>age</th>              <td> 3616.3756</td> <td>  188.872</td> <td>   19.147</td> <td> 0.000</td> <td> 3245.770</td> <td> 3986.981</td>\n",
       "</tr>\n",
       "<tr>\n",
       "  <th>bmi</th>              <td> 1960.5774</td> <td>  194.806</td> <td>   10.064</td> <td> 0.000</td> <td> 1578.328</td> <td> 2342.826</td>\n",
       "</tr>\n",
       "<tr>\n",
       "  <th>children</th>         <td>  491.7307</td> <td>  186.451</td> <td>    2.637</td> <td> 0.008</td> <td>  125.875</td> <td>  857.586</td>\n",
       "</tr>\n",
       "<tr>\n",
       "  <th>sex_female</th>       <td> 8238.8444</td> <td>  213.372</td> <td>   38.613</td> <td> 0.000</td> <td> 7820.165</td> <td> 8657.523</td>\n",
       "</tr>\n",
       "<tr>\n",
       "  <th>sex_male</th>         <td> 7996.6914</td> <td>  203.714</td> <td>   39.255</td> <td> 0.000</td> <td> 7596.963</td> <td> 8396.419</td>\n",
       "</tr>\n",
       "<tr>\n",
       "  <th>smoker_no</th>        <td>-3775.4751</td> <td>  191.749</td> <td>  -19.690</td> <td> 0.000</td> <td>-4151.725</td> <td>-3399.225</td>\n",
       "</tr>\n",
       "<tr>\n",
       "  <th>smoker_yes</th>       <td> 2.001e+04</td> <td>  295.679</td> <td>   67.678</td> <td> 0.000</td> <td> 1.94e+04</td> <td> 2.06e+04</td>\n",
       "</tr>\n",
       "<tr>\n",
       "  <th>region_northeast</th> <td> 4643.2603</td> <td>  332.008</td> <td>   13.985</td> <td> 0.000</td> <td> 3991.793</td> <td> 5294.728</td>\n",
       "</tr>\n",
       "<tr>\n",
       "  <th>region_northwest</th> <td> 4247.1638</td> <td>  334.245</td> <td>   12.707</td> <td> 0.000</td> <td> 3591.307</td> <td> 4903.020</td>\n",
       "</tr>\n",
       "<tr>\n",
       "  <th>region_southeast</th> <td> 3604.8844</td> <td>  330.215</td> <td>   10.917</td> <td> 0.000</td> <td> 2956.935</td> <td> 4252.834</td>\n",
       "</tr>\n",
       "<tr>\n",
       "  <th>region_southwest</th> <td> 3740.2273</td> <td>  327.431</td> <td>   11.423</td> <td> 0.000</td> <td> 3097.742</td> <td> 4382.712</td>\n",
       "</tr>\n",
       "</table>\n",
       "<table class=\"simpletable\">\n",
       "<tr>\n",
       "  <th>Omnibus:</th>       <td>241.621</td> <th>  Durbin-Watson:     </th> <td>   1.967</td> \n",
       "</tr>\n",
       "<tr>\n",
       "  <th>Prob(Omnibus):</th> <td> 0.000</td>  <th>  Jarque-Bera (JB):  </th> <td> 566.273</td> \n",
       "</tr>\n",
       "<tr>\n",
       "  <th>Skew:</th>          <td> 1.217</td>  <th>  Prob(JB):          </th> <td>1.08e-123</td>\n",
       "</tr>\n",
       "<tr>\n",
       "  <th>Kurtosis:</th>      <td> 5.604</td>  <th>  Cond. No.          </th> <td>7.97e+15</td> \n",
       "</tr>\n",
       "</table><br/><br/>Notes:<br/>[1] Standard Errors assume that the covariance matrix of the errors is correctly specified.<br/>[2] The smallest eigenvalue is 2.48e-29. This might indicate that there are<br/>strong multicollinearity problems or that the design matrix is singular."
      ],
      "text/plain": [
       "<class 'statsmodels.iolib.summary.Summary'>\n",
       "\"\"\"\n",
       "                            OLS Regression Results                            \n",
       "==============================================================================\n",
       "Dep. Variable:                charges   R-squared:                       0.748\n",
       "Model:                            OLS   Adj. R-squared:                  0.746\n",
       "Method:                 Least Squares   F-statistic:                     393.2\n",
       "Date:                Wed, 07 Sep 2022   Prob (F-statistic):          4.76e-311\n",
       "Time:                        09:29:39   Log-Likelihood:                -10838.\n",
       "No. Observations:                1070   AIC:                         2.169e+04\n",
       "Df Residuals:                    1061   BIC:                         2.174e+04\n",
       "Df Model:                           8                                         \n",
       "Covariance Type:            nonrobust                                         \n",
       "====================================================================================\n",
       "                       coef    std err          t      P>|t|      [0.025      0.975]\n",
       "------------------------------------------------------------------------------------\n",
       "age               3616.3756    188.872     19.147      0.000    3245.770    3986.981\n",
       "bmi               1960.5774    194.806     10.064      0.000    1578.328    2342.826\n",
       "children           491.7307    186.451      2.637      0.008     125.875     857.586\n",
       "sex_female        8238.8444    213.372     38.613      0.000    7820.165    8657.523\n",
       "sex_male          7996.6914    203.714     39.255      0.000    7596.963    8396.419\n",
       "smoker_no        -3775.4751    191.749    -19.690      0.000   -4151.725   -3399.225\n",
       "smoker_yes        2.001e+04    295.679     67.678      0.000    1.94e+04    2.06e+04\n",
       "region_northeast  4643.2603    332.008     13.985      0.000    3991.793    5294.728\n",
       "region_northwest  4247.1638    334.245     12.707      0.000    3591.307    4903.020\n",
       "region_southeast  3604.8844    330.215     10.917      0.000    2956.935    4252.834\n",
       "region_southwest  3740.2273    327.431     11.423      0.000    3097.742    4382.712\n",
       "==============================================================================\n",
       "Omnibus:                      241.621   Durbin-Watson:                   1.967\n",
       "Prob(Omnibus):                  0.000   Jarque-Bera (JB):              566.273\n",
       "Skew:                           1.217   Prob(JB):                    1.08e-123\n",
       "Kurtosis:                       5.604   Cond. No.                     7.97e+15\n",
       "==============================================================================\n",
       "\n",
       "Notes:\n",
       "[1] Standard Errors assume that the covariance matrix of the errors is correctly specified.\n",
       "[2] The smallest eigenvalue is 2.48e-29. This might indicate that there are\n",
       "strong multicollinearity problems or that the design matrix is singular.\n",
       "\"\"\""
      ]
     },
     "execution_count": 17,
     "metadata": {},
     "output_type": "execute_result"
    }
   ],
   "source": [
    "# OLS (Ordinory Least Squired Method)\n",
    "import statsmodels.api as sm\n",
    "\n",
    "# Build the model\n",
    "base_model_df_insurance_main = sm.OLS(Y_train,X_train).fit()\n",
    "\n",
    "# Print the summary\n",
    "base_model_df_insurance_main.summary()"
   ]
  },
  {
   "cell_type": "code",
   "execution_count": 18,
   "id": "0e7ede3e",
   "metadata": {},
   "outputs": [],
   "source": [
    "from sklearn.linear_model import SGDRegressor, LinearRegression\n",
    "\n",
    "lr = LinearRegression()\n",
    "sgd = SGDRegressor()\n",
    "model1 = lr.fit(X_train, Y_train)\n",
    "predected=model1.predict(X_test)"
   ]
  },
  {
   "cell_type": "code",
   "execution_count": 19,
   "id": "dc2c61df",
   "metadata": {
    "scrolled": true
   },
   "outputs": [
    {
     "data": {
      "text/plain": [
       "array([ 4383.68089988, 12885.03892192, 12589.21653212, 13286.22919217,\n",
       "         544.72832757, 32117.58400779, 12919.04237221, 12318.62183013,\n",
       "        3784.29145555, 29468.45725408, 11002.8139431 , 17539.69473777,\n",
       "        8681.35471964,  8349.04325528,  3130.12725504, 10445.83896118,\n",
       "        3863.74357865,  6944.62510786, 15009.63121084, 14441.59911874,\n",
       "       12543.65768867, 32958.72553095,  9072.63608136,  8986.85860053,\n",
       "        3022.85773294,  8164.97136102,  9556.07558002, 10743.20363927,\n",
       "        7694.01743692,  4373.43771674, 14140.93557984,  5811.78545062,\n",
       "       34631.91316718, 27009.11191231, 33348.14098668,  9532.96786929,\n",
       "       30421.65017927, 26648.91186842, 15157.78333287, 33895.76121465,\n",
       "        6303.38552088, 14059.15156303, 10713.4467824 , 15089.36171493,\n",
       "        4187.95334069, 13106.4297513 ,  4336.19603407, 28607.05556216,\n",
       "        7243.57117377, 14269.4643165 , 13282.36924936, 12329.61280721,\n",
       "        1851.87215658,  8876.2837892 , 26089.18341811, 10125.8221046 ,\n",
       "       34218.77265378, 14537.70022165,  3232.07805794,  5889.64309508,\n",
       "        6558.45711628, 14952.73214832, 26943.84457634,  3272.57672674,\n",
       "       15795.18877494, 11220.12036023, 11132.67761401, 10461.51218201,\n",
       "        1520.17580687, 25268.32319722, 37555.4332681 , 33131.32070966,\n",
       "        1986.54437212, 11348.45648105, 13683.62487834, 34970.76597049,\n",
       "        3194.05204265,  3875.19388449, 10355.84468565, 10429.85383112,\n",
       "         -74.18168095, 14069.96921025, 10335.95235396,  3160.49129709,\n",
       "       33495.55139469, 33108.38629603,  7159.042252  , 37712.17792565,\n",
       "       12860.01613403, 10312.33535752, 30118.39165257, 33999.155218  ,\n",
       "       14744.35977759, 10797.48057723,   228.32604517, 10550.25751993,\n",
       "        9637.2654186 , 14963.62716464, 14973.49438453,  6077.52837971,\n",
       "       13679.44499708, 26048.6188477 , 28140.15460801, 27428.44651929,\n",
       "       35323.96326034, 27120.17093173,   635.73242244,  9265.30720109,\n",
       "        4700.17995399, 12458.33462103,  5334.04136712,  4797.80959774,\n",
       "        1053.28620015, 18801.23368294,  3268.21781045,  1680.06692797,\n",
       "       11731.45541277, 12594.4560403 , 11876.24500234,  3722.26917923,\n",
       "        8907.38977334, 13909.79277731,  7727.28039545,  6573.92347482,\n",
       "       36668.28291771, 12172.54974158, 12246.4759298 , 29298.69540744,\n",
       "       36065.08836969, 11635.06903459, 28119.47917939,  -420.5228157 ,\n",
       "        8255.48679122, 31611.56891923,  8278.51950655,  -682.91733795,\n",
       "        1175.50251941,  4610.52460783,  7592.72365991, 12602.74525758,\n",
       "       14871.84794414,  8696.2661006 , 28916.17140639, 15712.12938325,\n",
       "       14688.56307722, 11117.34115616,  1910.78149758, 10065.51386262,\n",
       "        3785.83713249,  6165.85822972, 11400.42215978,  5505.08475585,\n",
       "       14580.76982237, 13691.35579602, 12694.51188244,  7023.42319484,\n",
       "       12388.68766385, 10922.09183278, 10269.55783904,  4543.27270357,\n",
       "        5648.10144357, 40390.9900769 , 13059.47316213,  4308.66813543,\n",
       "        8433.53823713,  4680.92297563, 32207.14761827, 11261.09752853,\n",
       "       10966.92628193,  6893.83017801,  6439.49932262,  6698.81354717,\n",
       "       33082.53354683, 34892.66990169,  2163.75212652,  7664.10129233,\n",
       "        5208.63123781, 15537.4388228 ,  1472.95942494, 11431.38761905,\n",
       "       13442.52462926, 11497.84155642, 10547.85065715, 13216.06609157,\n",
       "        2392.9275311 , 27535.86192673,  2350.29363146, 14750.02090702,\n",
       "        6294.4943912 , 10590.51504221, 14975.55458721, 38857.75707767,\n",
       "        2100.48817818,  1489.62172706,  5170.63120404,  7556.77055613,\n",
       "        7905.80683902,  4503.61764622, 10680.78553577,  8938.12057203,\n",
       "        9389.70713251, 11104.75136012, 10325.31689891,  9247.40925093,\n",
       "        8075.54835929,   895.79174623, 10136.82246673,  7306.72664577,\n",
       "        6626.07986045, 11706.84936779,  5409.99685749, 32864.25315855,\n",
       "        7088.39118065,  6309.6941707 ,  7934.10447803, 38948.10610123,\n",
       "       11941.19483711, 28316.17975841,  2882.4783976 , 33202.36401978,\n",
       "        3690.60862539, 31577.22772525, 13825.53657174,  2716.91852953,\n",
       "        1908.80043495,  1262.92212969,  6109.40830379,  4463.80387639,\n",
       "       25580.05728181, 15737.66640221,  5345.8549026 , 13030.85900261,\n",
       "       38954.05091304,  4792.05740177, 12711.42561622, 11335.66208015,\n",
       "       27785.54316341,  2794.86874955, 13392.79241645,  5727.91540048,\n",
       "       15215.43600554,  5772.15783816, 16929.82927411,  3896.74375465,\n",
       "       12197.3470759 , 34682.24329155, 10666.53272796, 10601.36016707,\n",
       "        4875.20490336, 16734.59399629, 14399.64496923,  5497.30018065,\n",
       "       11149.82336777, 12497.70437379,  4626.74808217,  7169.33486073,\n",
       "       27667.13758601, 32240.5545494 ,  -474.41779055, 40306.05467371,\n",
       "        9397.25562995,  7750.27185181, 10671.66257411, 33555.1844395 ,\n",
       "       35949.5230514 , 36650.46723087,  4961.92884343,  6116.92057448])"
      ]
     },
     "execution_count": 19,
     "metadata": {},
     "output_type": "execute_result"
    }
   ],
   "source": [
    "predected"
   ]
  }
 ],
 "metadata": {
  "kernelspec": {
   "display_name": "Python 3 (ipykernel)",
   "language": "python",
   "name": "python3"
  },
  "language_info": {
   "codemirror_mode": {
    "name": "ipython",
    "version": 3
   },
   "file_extension": ".py",
   "mimetype": "text/x-python",
   "name": "python",
   "nbconvert_exporter": "python",
   "pygments_lexer": "ipython3",
   "version": "3.9.8"
  }
 },
 "nbformat": 4,
 "nbformat_minor": 5
}
